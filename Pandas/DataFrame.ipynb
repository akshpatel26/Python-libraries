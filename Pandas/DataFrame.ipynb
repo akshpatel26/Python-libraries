{
 "cells": [
  {
   "cell_type": "code",
   "execution_count": 18,
   "id": "b9e03afa-82bb-457b-92d6-fbbac61550eb",
   "metadata": {},
   "outputs": [
    {
     "name": "stdout",
     "output_type": "stream",
     "text": [
      "       Unnamed: 0  Bat1 Runs  BF     SR 4s 6s    Opposition     Ground  \\\n",
      "0               1   DNB    -   -      -  -  -       v India     Nagpur   \n",
      "1               2   DNB    -   -      -  -  -       v India    Kolkata   \n",
      "2               3   DNB    -   -      -  -  -       v India      Delhi   \n",
      "3               4   DNB    -   -      -  -  -  v Bangladesh      Dhaka   \n",
      "4               5   DNB    -   -      -  -  -       v India      Dhaka   \n",
      "...           ...   ...  ...  ..    ... .. ..           ...        ...   \n",
      "11144       11145    46   46  61  75.40  6  1     v Ireland   Dehradun   \n",
      "11145       11146     3    3   6  50.00  0  0     v Ireland   Dehradun   \n",
      "11146       11147     1    1   8  12.50  0  0     v Ireland   Dehradun   \n",
      "11147       11148   DNB    -   -      -  -  -    v Scotland  Edinburgh   \n",
      "11148       11149  TDNB    -   -      -  -  -     v Ireland    Belfast   \n",
      "\n",
      "        Start Date    Match_ID         Batsman  Player_ID  \n",
      "0      18 Dec 2009  ODI # 2933   Oshane Thomas      49619  \n",
      "1      24 Dec 2009  ODI # 2935   Oshane Thomas      49619  \n",
      "2      27 Dec 2009  ODI # 2936   Oshane Thomas      49619  \n",
      "3       4 Jan 2010  ODI # 2937   Oshane Thomas      49619  \n",
      "4       5 Jan 2010  ODI # 2938   Oshane Thomas      49619  \n",
      "...            ...         ...             ...        ...  \n",
      "11144  28 Feb 2019  ODI # 4100  Gulbadin Naib      352048  \n",
      "11145   2 Mar 2019  ODI # 4101  Gulbadin Naib      352048  \n",
      "11146   8 Mar 2019  ODI # 4108  Gulbadin Naib      352048  \n",
      "11147  10 May 2019  ODI # 4131  Gulbadin Naib      352048  \n",
      "11148  19 May 2019  ODI # 4139  Gulbadin Naib      352048  \n",
      "\n",
      "[11149 rows x 13 columns]\n"
     ]
    }
   ],
   "source": [
    "import pandas as pd\n",
    "data=pd.read_csv(\"C:/Users/Fenil Patel/OneDrive/Desktop/Power BI/files/Batsman_Data.csv\")\n",
    "print(data)"
   ]
  },
  {
   "cell_type": "code",
   "execution_count": 22,
   "id": "93f8c94f-4c45-47ef-a516-54e16816c31d",
   "metadata": {},
   "outputs": [
    {
     "name": "stdout",
     "output_type": "stream",
     "text": [
      "   Unnamed: 0                        Unnamed: 1 Unnamed: 2 Unnamed: 3\n",
      "0         NaN                               NaN        NaN        NaN\n",
      "1         NaN                               NaN        NaN        NaN\n",
      "2         NaN                               NaN        NaN        NaN\n",
      "3         NaN                               NaN        NaN        NaN\n",
      "4         NaN  Annual Returns on Investments in        NaN        NaN\n",
      "..        ...                               ...        ...        ...\n",
      "85       2007                            0.0549     0.0988     0.0466\n",
      "86       2008                             -0.37     0.2587      0.016\n",
      "87       2009                            0.2646     -0.149      0.001\n",
      "88        NaN                            stocks     tbills      bonds\n",
      "89   averages                               NaN        NaN        NaN\n",
      "\n",
      "[90 rows x 4 columns]\n"
     ]
    }
   ],
   "source": [
    "data=pd.read_excel(\"Historicalinvesttemp.xlsx\")\n",
    "print(data)"
   ]
  }
 ],
 "metadata": {
  "kernelspec": {
   "display_name": "Python 3 (ipykernel)",
   "language": "python",
   "name": "python3"
  },
  "language_info": {
   "codemirror_mode": {
    "name": "ipython",
    "version": 3
   },
   "file_extension": ".py",
   "mimetype": "text/x-python",
   "name": "python",
   "nbconvert_exporter": "python",
   "pygments_lexer": "ipython3",
   "version": "3.12.4"
  }
 },
 "nbformat": 4,
 "nbformat_minor": 5
}
