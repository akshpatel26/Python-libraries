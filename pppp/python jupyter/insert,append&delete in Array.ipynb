{
 "cells": [
  {
   "cell_type": "code",
   "execution_count": 12,
   "id": "7aaba874-ba1c-4ff8-b8ec-06258dd88000",
   "metadata": {},
   "outputs": [
    {
     "name": "stdout",
     "output_type": "stream",
     "text": [
      "[20 40 60 80 90]\n",
      "[20 50 40 60 80]\n",
      "[20 40 60 80]\n",
      "[20 40 80]\n"
     ]
    }
   ],
   "source": [
    "import numpy as np\n",
    "\n",
    "a=np.array([20,40,60,80])\n",
    "print(np.append(a,90))\n",
    "\n",
    "print(np.insert(a,1,50))  #array,index,value\n",
    "print(a)\n",
    "print(np.delete(a,2))   # delete index 2 value is 60 "
   ]
  },
  {
   "cell_type": "code",
   "execution_count": 17,
   "id": "8ba64767-1014-4bdc-a257-3eb8ad3f3378",
   "metadata": {},
   "outputs": [
    {
     "name": "stdout",
     "output_type": "stream",
     "text": [
      "[ 20  40  60  80  90 100]\n",
      "[[20 40]\n",
      " [50 60]\n",
      " [60 80]]\n",
      "[[ 20  40]\n",
      " [120 120]\n",
      " [ 60  80]\n",
      " [120 120]]\n",
      "\n",
      "[[20]\n",
      " [60]]\n"
     ]
    }
   ],
   "source": [
    "import numpy as np\n",
    "\n",
    "a=np.array([[20,40],[60,80]])\n",
    "print(np.append(a,[90,100]))\n",
    "\n",
    "print(np.insert(a,1,[50,60],axis =0))\n",
    "print(np.insert(a,[1,2],[120],axis =0))\n",
    "print()\n",
    "\n",
    "print(np.delete(a,1,axis=1))\n"
   ]
  }
 ],
 "metadata": {
  "kernelspec": {
   "display_name": "Python 3 (ipykernel)",
   "language": "python",
   "name": "python3"
  },
  "language_info": {
   "codemirror_mode": {
    "name": "ipython",
    "version": 3
   },
   "file_extension": ".py",
   "mimetype": "text/x-python",
   "name": "python",
   "nbconvert_exporter": "python",
   "pygments_lexer": "ipython3",
   "version": "3.12.4"
  }
 },
 "nbformat": 4,
 "nbformat_minor": 5
}
