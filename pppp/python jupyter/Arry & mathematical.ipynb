{
 "cells": [
  {
   "cell_type": "code",
   "execution_count": 6,
   "id": "2bdf9782-29bd-4fc0-9a52-4741e734fbc7",
   "metadata": {},
   "outputs": [
    {
     "name": "stdout",
     "output_type": "stream",
     "text": [
      "[10 20 30]\n"
     ]
    }
   ],
   "source": [
    "import numpy as np\n",
    "arr=np.array([10,20,30])\n",
    "print (arr)"
   ]
  },
  {
   "cell_type": "code",
   "execution_count": 12,
   "id": "c27aeee2-b2ab-4446-ae3e-7a4dd1d7e081",
   "metadata": {},
   "outputs": [
    {
     "name": "stdout",
     "output_type": "stream",
     "text": [
      "[[10 20 30 40]\n",
      " [50 60 60 70]]\n",
      "50\n",
      "(3, 4)\n",
      "12\n",
      "2\n",
      "int64\n"
     ]
    }
   ],
   "source": [
    "import numpy as np\n",
    "arr=np.array([[10,20,30,40],[50,60,60,70],[80,40,50,30]])\n",
    "print (arr[0:2])\n",
    "print (arr[2,2])\n",
    "print(np.shape(arr))\n",
    "print (np.size(arr))\n",
    "print (np.ndim(arr)) \n",
    "print (arr.dtype)\n"
   ]
  },
  {
   "cell_type": "code",
   "execution_count": 24,
   "id": "02b171a9-89f3-4392-bbc7-3526cfeeb55a",
   "metadata": {},
   "outputs": [
    {
     "name": "stdout",
     "output_type": "stream",
     "text": [
      "[[30 40 40]\n",
      " [20 40 30]]\n",
      "(2, 3)\n",
      "2\n",
      "6\n",
      "6\n",
      "<class 'numpy.ndarray'>\n",
      "int64\n",
      "[[30. 40. 40.]\n",
      " [20. 40. 30.]]\n"
     ]
    }
   ],
   "source": [
    "import numpy as np\n",
    "\n",
    "a=[[30,40,40],[20,40,30]]\n",
    "arr=np.array(a)\n",
    "print(arr)\n",
    "print(arr.shape)  #rows,colums\n",
    "print(len(arr))  #number of nested values\n",
    "\n",
    "print (arr.size)\n",
    "print(np.size(arr))  #number of element\n",
    "\n",
    "print(type(arr))  #datatypes of variable\n",
    "print(arr.dtype)  #datatype of array\n",
    " \n",
    "print(arr.astype(float))  #conversion of datatype\n",
    "\n"
   ]
  },
  {
   "cell_type": "code",
   "execution_count": 28,
   "id": "cb1f3e66-b01c-4f00-87ed-39de99d1bd25",
   "metadata": {},
   "outputs": [
    {
     "name": "stdout",
     "output_type": "stream",
     "text": [
      "[[ 50  70]\n",
      " [100 130]]\n",
      "[[ 50  70]\n",
      " [100 130]]\n"
     ]
    }
   ],
   "source": [
    "import numpy as np\n",
    "arr1=np.array([[30,40],[50,60]])\n",
    "arr2=np.array([[20,30],[50,70]])\n",
    "\n",
    "print(arr1+arr2)\n",
    "print(np.add(arr1,arr2))"
   ]
  },
  {
   "cell_type": "code",
   "execution_count": 34,
   "id": "ba1e7d01-95c9-4372-8dee-ba6aa12eb9d9",
   "metadata": {},
   "outputs": [
    {
     "name": "stdout",
     "output_type": "stream",
     "text": [
      "[[ 10  10]\n",
      " [  0 -10]]\n",
      "[[ 10  10]\n",
      " [  0 -10]]\n"
     ]
    }
   ],
   "source": [
    "import numpy as np\n",
    "arr1=np.array([[30,40],[50,60]])\n",
    "arr2=np.array([[20,30],[50,70]])\n",
    "\n",
    "print(arr1-arr2)\n",
    "print(np.subtract(arr1,arr2))\n",
    "\n"
   ]
  },
  {
   "cell_type": "code",
   "execution_count": 35,
   "id": "d662089e-4696-4310-be6c-18c3817380d5",
   "metadata": {},
   "outputs": [
    {
     "name": "stdout",
     "output_type": "stream",
     "text": [
      "[[ 600 1200]\n",
      " [2500 4200]]\n",
      "[[ 600 1200]\n",
      " [2500 4200]]\n"
     ]
    }
   ],
   "source": [
    "import numpy as np\n",
    "arr1=np.array([[30,40],[50,60]])\n",
    "arr2=np.array([[20,30],[50,70]])\n",
    "\n",
    "print(arr1*arr2)\n",
    "print(np.multiply(arr1,arr2))"
   ]
  },
  {
   "cell_type": "code",
   "execution_count": 36,
   "id": "b9d17f0a-e5d4-4d8b-a591-87ea6d541198",
   "metadata": {},
   "outputs": [
    {
     "name": "stdout",
     "output_type": "stream",
     "text": [
      "[[1.5        1.33333333]\n",
      " [1.         0.85714286]]\n",
      "[[1.5        1.33333333]\n",
      " [1.         0.85714286]]\n"
     ]
    }
   ],
   "source": [
    "import numpy as np\n",
    "arr1=np.array([[30,40],[50,60]])\n",
    "arr2=np.array([[20,30],[50,70]])\n",
    "\n",
    "print(arr1/arr2)\n",
    "print(np.divide(arr1,arr2))"
   ]
  },
  {
   "cell_type": "code",
   "execution_count": 40,
   "id": "4dfcdf32-8712-4b8c-9761-725cd5b8c143",
   "metadata": {},
   "outputs": [
    {
     "name": "stdout",
     "output_type": "stream",
     "text": [
      "[ 9 16 25 36]\n"
     ]
    }
   ],
   "source": [
    "import numpy as np\n",
    "arr1=np.array([3,4,5,6])\n",
    "arr2=np.array([2])\n",
    "print(np.power(arr1,arr2))"
   ]
  },
  {
   "cell_type": "code",
   "execution_count": 47,
   "id": "1fa716d6-ae82-4a3f-84a6-7b727ec1e6ea",
   "metadata": {},
   "outputs": [
    {
     "name": "stdout",
     "output_type": "stream",
     "text": [
      "[3. 4. 5. 6.]\n"
     ]
    }
   ],
   "source": [
    "arr1=np.array([9,16,25,36])\n",
    "print(np.sqrt(arr1))\n"
   ]
  }
 ],
 "metadata": {
  "kernelspec": {
   "display_name": "Python 3 (ipykernel)",
   "language": "python",
   "name": "python3"
  },
  "language_info": {
   "codemirror_mode": {
    "name": "ipython",
    "version": 3
   },
   "file_extension": ".py",
   "mimetype": "text/x-python",
   "name": "python",
   "nbconvert_exporter": "python",
   "pygments_lexer": "ipython3",
   "version": "3.12.4"
  }
 },
 "nbformat": 4,
 "nbformat_minor": 5
}
