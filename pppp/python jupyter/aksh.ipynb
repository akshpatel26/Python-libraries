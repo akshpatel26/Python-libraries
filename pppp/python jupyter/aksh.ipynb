{
 "cells": [
  {
   "cell_type": "code",
   "execution_count": 1,
   "id": "464bc5f2-3467-45b6-8e26-1ad3b659c201",
   "metadata": {},
   "outputs": [
    {
     "name": "stdout",
     "output_type": "stream",
     "text": [
      "helllo\n"
     ]
    }
   ],
   "source": [
    "print(\"helllo\")"
   ]
  },
  {
   "cell_type": "code",
   "execution_count": 2,
   "id": "505ca3b7-31dc-4bbc-875c-ccdccf32e26e",
   "metadata": {},
   "outputs": [
    {
     "name": "stdout",
     "output_type": "stream",
     "text": [
      "byeee\n"
     ]
    }
   ],
   "source": [
    "print(\"byeee\")"
   ]
  },
  {
   "cell_type": "code",
   "execution_count": 3,
   "id": "c7fffd8a-b958-4b36-a34e-5e6911f9fb45",
   "metadata": {},
   "outputs": [
    {
     "name": "stdout",
     "output_type": "stream",
     "text": [
      "My Name is AKsh\n"
     ]
    }
   ],
   "source": [
    "print(\"My Name is AKsh\")"
   ]
  },
  {
   "cell_type": "code",
   "execution_count": null,
   "id": "cc89422f-e316-40f1-a297-4108134aa87f",
   "metadata": {},
   "outputs": [],
   "source": []
  }
 ],
 "metadata": {
  "kernelspec": {
   "display_name": "Python 3 (ipykernel)",
   "language": "python",
   "name": "python3"
  },
  "language_info": {
   "codemirror_mode": {
    "name": "ipython",
    "version": 3
   },
   "file_extension": ".py",
   "mimetype": "text/x-python",
   "name": "python",
   "nbconvert_exporter": "python",
   "pygments_lexer": "ipython3",
   "version": "3.12.4"
  }
 },
 "nbformat": 4,
 "nbformat_minor": 5
}
