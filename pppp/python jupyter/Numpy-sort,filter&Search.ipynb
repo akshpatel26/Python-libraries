{
 "cells": [
  {
   "cell_type": "code",
   "execution_count": 3,
   "id": "05e98121-e759-4f1a-ada4-4fb73ecdae0d",
   "metadata": {},
   "outputs": [
    {
     "name": "stdout",
     "output_type": "stream",
     "text": [
      "[[ 2  3  4  5 12]\n",
      " [ 1  2  3  6  8]]\n"
     ]
    }
   ],
   "source": [
    "#sort\n",
    "import numpy as np\n",
    "ar=np.array([[3,5,2,12,4],[2,8,6,1,3]])\n",
    "print(np.sort(ar))"
   ]
  },
  {
   "cell_type": "code",
   "execution_count": 6,
   "id": "08dc6bb7-0aa4-4957-a2f0-11fc0afb33ae",
   "metadata": {},
   "outputs": [
    {
     "name": "stdout",
     "output_type": "stream",
     "text": [
      "(array([3]),)\n",
      "\n",
      "(array([0, 4]),)\n"
     ]
    }
   ],
   "source": [
    "#search\n",
    "ar=np.array([3,4,1,5,6])\n",
    "s=np.where(ar==5)\n",
    "print(s)\n",
    "print()\n",
    "p=np.where(ar%3==0)\n",
    "print(p)"
   ]
  },
  {
   "cell_type": "code",
   "execution_count": 8,
   "id": "b3254459-8729-4082-8d85-a7194b8c09aa",
   "metadata": {},
   "outputs": [
    {
     "name": "stdout",
     "output_type": "stream",
     "text": [
      "2\n"
     ]
    }
   ],
   "source": [
    "ar=np.array([1,3,5,6])\n",
    "r=np.searchsorted(ar,5)\n",
    "print(r)"
   ]
  },
  {
   "cell_type": "code",
   "execution_count": 12,
   "id": "cf5b2fa0-aef6-40f8-83e5-ad976331419c",
   "metadata": {},
   "outputs": [
    {
     "name": "stdout",
     "output_type": "stream",
     "text": [
      "[20 40]\n",
      "\n",
      "[40 50]\n"
     ]
    }
   ],
   "source": [
    "#filter\n",
    "ar=np.array([20,30,40,50])\n",
    "\n",
    "f=[True,False,True,False]\n",
    "new=ar[f]\n",
    "print(new)\n",
    "\n",
    "print()\n",
    "\n",
    "d=ar>35\n",
    "new=ar[d]\n",
    "print(new)"
   ]
  }
 ],
 "metadata": {
  "kernelspec": {
   "display_name": "Python 3 (ipykernel)",
   "language": "python",
   "name": "python3"
  },
  "language_info": {
   "codemirror_mode": {
    "name": "ipython",
    "version": 3
   },
   "file_extension": ".py",
   "mimetype": "text/x-python",
   "name": "python",
   "nbconvert_exporter": "python",
   "pygments_lexer": "ipython3",
   "version": "3.12.4"
  }
 },
 "nbformat": 4,
 "nbformat_minor": 5
}
