{
 "cells": [
  {
   "cell_type": "code",
   "execution_count": 8,
   "id": "4b7698d8-ed59-4b0b-ba8d-2f460963fb46",
   "metadata": {},
   "outputs": [
    {
     "name": "stdout",
     "output_type": "stream",
     "text": [
      "95\n",
      "20\n",
      "45\n",
      "3\n",
      "31.666666666666668\n",
      "[20 50 95]\n",
      "[   20   600 27000]\n"
     ]
    }
   ],
   "source": [
    "import numpy as np\n",
    "\n",
    "a=np.array([20,30,45])\n",
    "\n",
    "print(np.sum(a))\n",
    "print(np.min(a))\n",
    "print(np.max(a))\n",
    "print(np.size(a))\n",
    "print(np.mean(a))\n",
    "print(np.cumsum(a))\n",
    "print(np.cumprod(a))\n",
    "\n",
    "\n"
   ]
  },
  {
   "cell_type": "code",
   "execution_count": 18,
   "id": "a62b3b5d-747f-42e3-8ec5-d88aa7f93282",
   "metadata": {},
   "outputs": [
    {
     "name": "stdout",
     "output_type": "stream",
     "text": [
      "[100 150 199 200 250] \n",
      " [10 30 50 30 60]\n",
      "\n",
      "[ 100  250  449  649  899  909  939  989 1019 1079]\n",
      "\n",
      "[[  100   150   199   200   250]\n",
      " [ 1000  4500  9950  6000 15000]]\n",
      "\n",
      "[ 1000  4500  9950  6000 15000]\n"
     ]
    }
   ],
   "source": [
    "a=[100,150,199,200,250]\n",
    "b=[10,30,50,30,60]\n",
    "price = np.array(a)\n",
    "quantity =np.array(b)\n",
    "print(price,\"\\n\",quantity)\n",
    "\n",
    "print(np.cumsum([price,quantity]))\n",
    "                   print()\n",
    "c=np.cumprod([price,quantity],axis=0) #  total = price*quantity\n",
    "print(c)\n",
    "                   print()\n",
    "print(c[1])"
   ]
  },
  {
   "cell_type": "code",
   "execution_count": 27,
   "id": "1fbe98d2-6adc-4c54-b046-bf7453a88d31",
   "metadata": {},
   "outputs": [
    {
     "name": "stdout",
     "output_type": "stream",
     "text": [
      "236.85714285714286\n",
      "200.0\n",
      "400\n",
      "87.12458824896116\n",
      "7590.693877551021\n"
     ]
    }
   ],
   "source": [
    "#statistical functions\n",
    "\n",
    "import numpy as np\n",
    "import statistics as stats  \n",
    "\n",
    "baked_food=[400,300,150,140,200,280,188]\n",
    "ar =np.array(baked_food)\n",
    "print(np.mean(baked_food)) #sum of all values/number of values\n",
    "print(np.median(baked_food))   #140,150,188,200,280,300,400   central value after sorting\n",
    "print(stats.mode(baked_food))\n",
    "\n",
    "print(np.std(baked_food))\n",
    "print(np.var(baked_food))  #square of std\n"
   ]
  },
  {
   "cell_type": "code",
   "execution_count": 29,
   "id": "d136a798-a03c-4f2c-8630-3e8892056fa6",
   "metadata": {},
   "outputs": [
    {
     "name": "stdout",
     "output_type": "stream",
     "text": [
      "[[1.         0.99015454]\n",
      " [0.99015454 1.        ]]\n"
     ]
    }
   ],
   "source": [
    "#-1 represent inversely proportional relationship\n",
    "#1 represent  proportional relationship\n",
    "#0 means no relationship\n",
    "\n",
    "tobacco_consumption=[30,50,10,30,50,40]\n",
    "deaths=[100,120,70,100,120,112]\n",
    "print(np.corrcoef([tobacco_consumption,deaths]))"
   ]
  },
  {
   "cell_type": "code",
   "execution_count": 34,
   "id": "90dd913e-38cd-44c9-b662-b5aa4fd5f4ae",
   "metadata": {},
   "outputs": [
    {
     "name": "stdout",
     "output_type": "stream",
     "text": [
      "[[ 1.         -0.67016384]\n",
      " [-0.67016384  1.        ]]\n"
     ]
    }
   ],
   "source": [
    "price=[300,100,350,150,200]\n",
    "sales=[10,20,7,18,3]\n",
    "\n",
    "print(np.corrcoef([price,sales]))\n"
   ]
  }
 ],
 "metadata": {
  "kernelspec": {
   "display_name": "Python 3 (ipykernel)",
   "language": "python",
   "name": "python3"
  },
  "language_info": {
   "codemirror_mode": {
    "name": "ipython",
    "version": 3
   },
   "file_extension": ".py",
   "mimetype": "text/x-python",
   "name": "python",
   "nbconvert_exporter": "python",
   "pygments_lexer": "ipython3",
   "version": "3.12.4"
  }
 },
 "nbformat": 4,
 "nbformat_minor": 5
}
