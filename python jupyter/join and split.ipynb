{
 "cells": [
  {
   "cell_type": "code",
   "execution_count": 5,
   "id": "ecb51da9-1ff0-4c37-963e-4caa7c1ba923",
   "metadata": {
    "scrolled": true
   },
   "outputs": [
    {
     "name": "stdout",
     "output_type": "stream",
     "text": [
      "[[30 40]\n",
      " [50 80]\n",
      " [ 5  5]\n",
      " [ 6  9]]\n"
     ]
    }
   ],
   "source": [
    "#concatenate\n",
    "import numpy as np\n",
    "arr1=np.array([[30,40],[50,80]])\n",
    "arr2=np.array([[5,5],[6,9]])\n",
    "print(np.concatenate([arr1,arr2]))"
   ]
  },
  {
   "cell_type": "code",
   "execution_count": 9,
   "id": "bfa3694f-d259-4f02-9e76-597fdbfc271e",
   "metadata": {},
   "outputs": [
    {
     "name": "stdout",
     "output_type": "stream",
     "text": [
      "[[30 40  5  5]\n",
      " [50 80  6  9]]\n"
     ]
    }
   ],
   "source": [
    "print(np.concatenate([arr1,arr2],axis=1))"
   ]
  },
  {
   "cell_type": "code",
   "execution_count": 12,
   "id": "83fe1475-e4c9-411b-877a-3f60be1a1d37",
   "metadata": {},
   "outputs": [
    {
     "name": "stdout",
     "output_type": "stream",
     "text": [
      "[[30 40  5  5]\n",
      " [50 80  6  9]]\n"
     ]
    }
   ],
   "source": [
    "print(np.hstack([arr1,arr2]))    #horizontal concatention"
   ]
  },
  {
   "cell_type": "code",
   "execution_count": 13,
   "id": "b558f4dd-7fd0-4ca0-b6d3-504908b8e864",
   "metadata": {},
   "outputs": [
    {
     "name": "stdout",
     "output_type": "stream",
     "text": [
      "[[30 40]\n",
      " [50 80]\n",
      " [ 5  5]\n",
      " [ 6  9]]\n"
     ]
    }
   ],
   "source": [
    "print(np.vstack([arr1,arr2]))"
   ]
  },
  {
   "cell_type": "code",
   "execution_count": 18,
   "id": "0ed81ecf-5c6f-44ec-9efa-c0b0963a1533",
   "metadata": {},
   "outputs": [
    {
     "name": "stdout",
     "output_type": "stream",
     "text": [
      "[array([20, 40]), array([30, 50]), array([55, 70]), array([43]), array([20])]\n",
      "[30 50]\n"
     ]
    }
   ],
   "source": [
    "a=np.array([20,40,30,50,55,70,43,20])\n",
    "b=np.array_split(a,5) #number of part ma split \n",
    "print(b)\n",
    "print(b[1])"
   ]
  },
  {
   "cell_type": "code",
   "execution_count": null,
   "id": "887b3093-ffac-4c74-93de-0658309b9f3b",
   "metadata": {},
   "outputs": [],
   "source": []
  }
 ],
 "metadata": {
  "kernelspec": {
   "display_name": "Python 3 (ipykernel)",
   "language": "python",
   "name": "python3"
  },
  "language_info": {
   "codemirror_mode": {
    "name": "ipython",
    "version": 3
   },
   "file_extension": ".py",
   "mimetype": "text/x-python",
   "name": "python",
   "nbconvert_exporter": "python",
   "pygments_lexer": "ipython3",
   "version": "3.12.4"
  }
 },
 "nbformat": 4,
 "nbformat_minor": 5
}
